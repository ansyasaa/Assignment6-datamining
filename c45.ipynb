{
 "cells": [
  {
   "cell_type": "code",
   "execution_count": 16,
   "metadata": {},
   "outputs": [],
   "source": [
    "from sklearn import tree\n",
    "import numpy as np\n",
    "import pandas as pd"
   ]
  },
  {
   "cell_type": "code",
   "execution_count": 17,
   "metadata": {},
   "outputs": [],
   "source": [
    "dataset = pd.read_csv(\"dataset.csv\")"
   ]
  },
  {
   "cell_type": "code",
   "execution_count": 18,
   "metadata": {},
   "outputs": [
    {
     "data": {
      "text/html": [
       "<div>\n",
       "<style scoped>\n",
       "    .dataframe tbody tr th:only-of-type {\n",
       "        vertical-align: middle;\n",
       "    }\n",
       "\n",
       "    .dataframe tbody tr th {\n",
       "        vertical-align: top;\n",
       "    }\n",
       "\n",
       "    .dataframe thead th {\n",
       "        text-align: right;\n",
       "    }\n",
       "</style>\n",
       "<table border=\"1\" class=\"dataframe\">\n",
       "  <thead>\n",
       "    <tr style=\"text-align: right;\">\n",
       "      <th></th>\n",
       "      <th>Kecamatan</th>\n",
       "      <th>Tidak/Belum Sekolah</th>\n",
       "      <th>Belum Tamat SD</th>\n",
       "      <th>Tamat SD</th>\n",
       "      <th>SLTP</th>\n",
       "      <th>SLTA</th>\n",
       "      <th>D1 dan D2</th>\n",
       "      <th>D3</th>\n",
       "      <th>S1</th>\n",
       "      <th>S2</th>\n",
       "      <th>S3</th>\n",
       "    </tr>\n",
       "  </thead>\n",
       "  <tbody>\n",
       "    <tr>\n",
       "      <th>0</th>\n",
       "      <td>Sukasari</td>\n",
       "      <td>2275</td>\n",
       "      <td>1173</td>\n",
       "      <td>1900</td>\n",
       "      <td>1648</td>\n",
       "      <td>3735</td>\n",
       "      <td>108</td>\n",
       "      <td>469</td>\n",
       "      <td>1633</td>\n",
       "      <td>288</td>\n",
       "      <td>43</td>\n",
       "    </tr>\n",
       "    <tr>\n",
       "      <th>1</th>\n",
       "      <td>Sukasari</td>\n",
       "      <td>3850</td>\n",
       "      <td>2038</td>\n",
       "      <td>2068</td>\n",
       "      <td>2450</td>\n",
       "      <td>6924</td>\n",
       "      <td>348</td>\n",
       "      <td>1280</td>\n",
       "      <td>3662</td>\n",
       "      <td>640</td>\n",
       "      <td>115</td>\n",
       "    </tr>\n",
       "    <tr>\n",
       "      <th>2</th>\n",
       "      <td>Sukasari</td>\n",
       "      <td>2412</td>\n",
       "      <td>1289</td>\n",
       "      <td>1740</td>\n",
       "      <td>1608</td>\n",
       "      <td>4073</td>\n",
       "      <td>120</td>\n",
       "      <td>502</td>\n",
       "      <td>1557</td>\n",
       "      <td>205</td>\n",
       "      <td>60</td>\n",
       "    </tr>\n",
       "    <tr>\n",
       "      <th>3</th>\n",
       "      <td>Sukasari</td>\n",
       "      <td>4525</td>\n",
       "      <td>2462</td>\n",
       "      <td>2137</td>\n",
       "      <td>2545</td>\n",
       "      <td>8416</td>\n",
       "      <td>380</td>\n",
       "      <td>1703</td>\n",
       "      <td>4503</td>\n",
       "      <td>633</td>\n",
       "      <td>84</td>\n",
       "    </tr>\n",
       "    <tr>\n",
       "      <th>4</th>\n",
       "      <td>Coblong</td>\n",
       "      <td>1820</td>\n",
       "      <td>1055</td>\n",
       "      <td>1121</td>\n",
       "      <td>1406</td>\n",
       "      <td>4494</td>\n",
       "      <td>58</td>\n",
       "      <td>399</td>\n",
       "      <td>1200</td>\n",
       "      <td>103</td>\n",
       "      <td>25</td>\n",
       "    </tr>\n",
       "  </tbody>\n",
       "</table>\n",
       "</div>"
      ],
      "text/plain": [
       "  Kecamatan  Tidak/Belum Sekolah  Belum Tamat SD  Tamat SD  SLTP  SLTA  \\\n",
       "0  Sukasari                 2275            1173      1900  1648  3735   \n",
       "1  Sukasari                 3850            2038      2068  2450  6924   \n",
       "2  Sukasari                 2412            1289      1740  1608  4073   \n",
       "3  Sukasari                 4525            2462      2137  2545  8416   \n",
       "4   Coblong                 1820            1055      1121  1406  4494   \n",
       "\n",
       "   D1 dan D2    D3    S1   S2   S3  \n",
       "0        108   469  1633  288   43  \n",
       "1        348  1280  3662  640  115  \n",
       "2        120   502  1557  205   60  \n",
       "3        380  1703  4503  633   84  \n",
       "4         58   399  1200  103   25  "
      ]
     },
     "execution_count": 18,
     "metadata": {},
     "output_type": "execute_result"
    }
   ],
   "source": [
    "dataset.head()"
   ]
  },
  {
   "cell_type": "code",
   "execution_count": 19,
   "metadata": {},
   "outputs": [],
   "source": [
    "dataset['Kecamatan'] = pd.factorize(dataset.Kecamatan)[0]"
   ]
  },
  {
   "cell_type": "code",
   "execution_count": 20,
   "metadata": {},
   "outputs": [
    {
     "data": {
      "text/html": [
       "<div>\n",
       "<style scoped>\n",
       "    .dataframe tbody tr th:only-of-type {\n",
       "        vertical-align: middle;\n",
       "    }\n",
       "\n",
       "    .dataframe tbody tr th {\n",
       "        vertical-align: top;\n",
       "    }\n",
       "\n",
       "    .dataframe thead th {\n",
       "        text-align: right;\n",
       "    }\n",
       "</style>\n",
       "<table border=\"1\" class=\"dataframe\">\n",
       "  <thead>\n",
       "    <tr style=\"text-align: right;\">\n",
       "      <th></th>\n",
       "      <th>Kecamatan</th>\n",
       "      <th>Tidak/Belum Sekolah</th>\n",
       "      <th>Belum Tamat SD</th>\n",
       "      <th>Tamat SD</th>\n",
       "      <th>SLTP</th>\n",
       "      <th>SLTA</th>\n",
       "      <th>D1 dan D2</th>\n",
       "      <th>D3</th>\n",
       "      <th>S1</th>\n",
       "      <th>S2</th>\n",
       "      <th>S3</th>\n",
       "    </tr>\n",
       "  </thead>\n",
       "  <tbody>\n",
       "    <tr>\n",
       "      <th>145</th>\n",
       "      <td>29</td>\n",
       "      <td>1010</td>\n",
       "      <td>534</td>\n",
       "      <td>629</td>\n",
       "      <td>809</td>\n",
       "      <td>1915</td>\n",
       "      <td>31</td>\n",
       "      <td>163</td>\n",
       "      <td>414</td>\n",
       "      <td>24</td>\n",
       "      <td>7</td>\n",
       "    </tr>\n",
       "    <tr>\n",
       "      <th>146</th>\n",
       "      <td>29</td>\n",
       "      <td>1331</td>\n",
       "      <td>706</td>\n",
       "      <td>1016</td>\n",
       "      <td>1118</td>\n",
       "      <td>2092</td>\n",
       "      <td>36</td>\n",
       "      <td>221</td>\n",
       "      <td>736</td>\n",
       "      <td>121</td>\n",
       "      <td>12</td>\n",
       "    </tr>\n",
       "    <tr>\n",
       "      <th>147</th>\n",
       "      <td>30</td>\n",
       "      <td>5224</td>\n",
       "      <td>2754</td>\n",
       "      <td>3382</td>\n",
       "      <td>3755</td>\n",
       "      <td>8277</td>\n",
       "      <td>98</td>\n",
       "      <td>820</td>\n",
       "      <td>2207</td>\n",
       "      <td>209</td>\n",
       "      <td>19</td>\n",
       "    </tr>\n",
       "    <tr>\n",
       "      <th>148</th>\n",
       "      <td>30</td>\n",
       "      <td>3602</td>\n",
       "      <td>1798</td>\n",
       "      <td>2137</td>\n",
       "      <td>2645</td>\n",
       "      <td>6146</td>\n",
       "      <td>80</td>\n",
       "      <td>548</td>\n",
       "      <td>1589</td>\n",
       "      <td>149</td>\n",
       "      <td>6</td>\n",
       "    </tr>\n",
       "    <tr>\n",
       "      <th>149</th>\n",
       "      <td>30</td>\n",
       "      <td>2577</td>\n",
       "      <td>1403</td>\n",
       "      <td>1961</td>\n",
       "      <td>1942</td>\n",
       "      <td>3956</td>\n",
       "      <td>39</td>\n",
       "      <td>329</td>\n",
       "      <td>948</td>\n",
       "      <td>90</td>\n",
       "      <td>16</td>\n",
       "    </tr>\n",
       "  </tbody>\n",
       "</table>\n",
       "</div>"
      ],
      "text/plain": [
       "     Kecamatan  Tidak/Belum Sekolah  Belum Tamat SD  Tamat SD  SLTP  SLTA  \\\n",
       "145         29                 1010             534       629   809  1915   \n",
       "146         29                 1331             706      1016  1118  2092   \n",
       "147         30                 5224            2754      3382  3755  8277   \n",
       "148         30                 3602            1798      2137  2645  6146   \n",
       "149         30                 2577            1403      1961  1942  3956   \n",
       "\n",
       "     D1 dan D2   D3    S1   S2  S3  \n",
       "145         31  163   414   24   7  \n",
       "146         36  221   736  121  12  \n",
       "147         98  820  2207  209  19  \n",
       "148         80  548  1589  149   6  \n",
       "149         39  329   948   90  16  "
      ]
     },
     "execution_count": 20,
     "metadata": {},
     "output_type": "execute_result"
    }
   ],
   "source": [
    "dataset.tail()"
   ]
  },
  {
   "cell_type": "code",
   "execution_count": 21,
   "metadata": {},
   "outputs": [],
   "source": [
    "dataset = dataset.to_numpy()"
   ]
  },
  {
   "cell_type": "code",
   "execution_count": 22,
   "metadata": {},
   "outputs": [
    {
     "name": "stdout",
     "output_type": "stream",
     "text": [
      "[[   0 2275 1173 ... 1633  288   43]\n",
      " [   0 3850 2038 ... 3662  640  115]\n",
      " [   0 2412 1289 ... 1557  205   60]\n",
      " ...\n",
      " [  30 5224 2754 ... 2207  209   19]\n",
      " [  30 3602 1798 ... 1589  149    6]\n",
      " [  30 2577 1403 ...  948   90   16]]\n"
     ]
    }
   ],
   "source": [
    "print(dataset)"
   ]
  },
  {
   "cell_type": "code",
   "execution_count": 23,
   "metadata": {},
   "outputs": [],
   "source": [
    "dataTraining = np.concatenate((dataset[0:60, :], dataset[75:135, :]), axis=0)\n",
    "dataTesting = np.concatenate((dataset[60:75, :], dataset[135:150, :]), axis=0)"
   ]
  },
  {
   "cell_type": "code",
   "execution_count": 24,
   "metadata": {},
   "outputs": [
    {
     "name": "stdout",
     "output_type": "stream",
     "text": [
      "[[   0 2275 1173 ... 1633  288   43]\n",
      " [   0 3850 2038 ... 3662  640  115]\n",
      " [   0 2412 1289 ... 1557  205   60]\n",
      " ...\n",
      " [  26 3464 1887 ... 1146   96   18]\n",
      " [  26 3281 1963 ... 1276  108   17]\n",
      " [  26 3801 2169 ... 1658  187   23]]\n"
     ]
    },
    {
     "data": {
      "text/plain": [
       "120"
      ]
     },
     "execution_count": 24,
     "metadata": {},
     "output_type": "execute_result"
    }
   ],
   "source": [
    "print(dataTraining)\n",
    "len(dataTraining)"
   ]
  },
  {
   "cell_type": "code",
   "execution_count": 25,
   "metadata": {},
   "outputs": [
    {
     "name": "stdout",
     "output_type": "stream",
     "text": [
      "[[  12 1413  766  628 1191 3492   35  454 1152   98   13]\n",
      " [  12 2272 1353 1368 2497 5613   52  415 1053   82    9]\n",
      " [  12 1544  864  856 1762 3773   42  290  659   30    3]\n",
      " [  12 2233 1302 1311 2113 5153   55  314  789   23    4]\n",
      " [  12 3044 1875 2165 3160 6977   64  440 1279   78    5]\n",
      " [  13 1778 1188  780 1081 3089  149  694 2725  473   58]\n",
      " [  13 1563  887  445  928 4068  186  601 1390  164   22]\n",
      " [  13 1595  909  822 1203 3357  170  589 1153  154   18]\n",
      " [  13  849  556  451  812 2265  124  313  781   66    6]\n",
      " [  13 2081 1444  690 1301 3668  225 1012 3869  860  131]\n",
      " [  13 1304  814  760 1081 2711  132  358 1143  185   12]\n",
      " [  13 1418  889  809 1190 3284  149  384  816   70    9]\n",
      " [  14 3033 1632 1551 2637 6253  206  589 1398  117    9]\n",
      " [  14 3943 2049 2285 3359 7976  270  878 2080  203   28]\n",
      " [  14 2914 1406 1327 2370 6002  143  585 1371  100    9]\n",
      " [  27  873  501  680  636  899   43  167  438   40    6]\n",
      " [  27 3795 1875 1970 2920 5794  231 1074 2996  427   57]\n",
      " [  27 2190 1257  976 1195 2422  118  669 2047  262   25]\n",
      " [  27  849  598  387  596 1442   90  311  777   94   11]\n",
      " [  28 2517 1379 1441 1968 4283  158  542 1470  147   25]\n",
      " [  28 2514 1269  604 1293 5047  254 1007 3165  367   63]\n",
      " [  28  702  329  643  688  966   17   49  157   12    0]\n",
      " [  28 1422  622  360  660 2217  135  510 1414  147   21]\n",
      " [  29 1162  624  747 1007 1878   28  184  502   55    8]\n",
      " [  29 1241  518  453  681 2596   40  280  599   47   11]\n",
      " [  29 1010  534  629  809 1915   31  163  414   24    7]\n",
      " [  29 1331  706 1016 1118 2092   36  221  736  121   12]\n",
      " [  30 5224 2754 3382 3755 8277   98  820 2207  209   19]\n",
      " [  30 3602 1798 2137 2645 6146   80  548 1589  149    6]\n",
      " [  30 2577 1403 1961 1942 3956   39  329  948   90   16]]\n"
     ]
    },
    {
     "data": {
      "text/plain": [
       "30"
      ]
     },
     "execution_count": 25,
     "metadata": {},
     "output_type": "execute_result"
    }
   ],
   "source": [
    "print(dataTesting)\n",
    "len(dataTesting)"
   ]
  },
  {
   "cell_type": "code",
   "execution_count": 26,
   "metadata": {},
   "outputs": [
    {
     "name": "stdout",
     "output_type": "stream",
     "text": [
      "[ 43 115  60  84  25  20  27 180  54   6   7  11   6  19   3   8  17   7\n",
      "   6   2  15   8   9   8   7   3  10  15  15  28  15  17  47  46  24  28\n",
      "  55  13  36  48  22  43  50  40   9   4   2   1   6   6  33  31   6  10\n",
      "  11  16  17  41   6  11  17  33  37  24   5  16  21   0  36   1   4  13\n",
      "   2   8  14  21   5   6  15   4   4   7   7  34  60  20 181  10  24  17\n",
      "   8  43  61  97  45  48   0  17  24  98  62  38  42  51  16  99  33 127\n",
      "  11  55  65  28  56  34  14  48  33  18  17  23]\n"
     ]
    },
    {
     "data": {
      "text/plain": [
       "120"
      ]
     },
     "execution_count": 26,
     "metadata": {},
     "output_type": "execute_result"
    }
   ],
   "source": [
    "inputTraining = dataTraining[:,0:10]\n",
    "inputTesting = dataTesting[:,0:10]\n",
    "labelTraining = dataTraining[:,10]\n",
    "labelTesting = dataTesting[:,10]\n",
    "print(labelTraining)\n",
    "len(labelTraining)"
   ]
  },
  {
   "cell_type": "code",
   "execution_count": 27,
   "metadata": {},
   "outputs": [],
   "source": [
    "model = tree.DecisionTreeClassifier()"
   ]
  },
  {
   "cell_type": "code",
   "execution_count": 28,
   "metadata": {},
   "outputs": [],
   "source": [
    "model =  model.fit(inputTraining, labelTraining)"
   ]
  },
  {
   "cell_type": "code",
   "execution_count": 29,
   "metadata": {},
   "outputs": [
    {
     "name": "stdout",
     "output_type": "stream",
     "text": [
      "Label Sebenarnya :  [ 13   9   3   4   5  58  22  18   6 131  12   9   9  28   9   6  57  25\n",
      "  11  25  63   0  21   8  11   7  12  19   6  16]\n",
      "Hasil Prediksi :  [20  9  0  0  6 60 17 15 10 60 60 16 15 36 15  2 55 31 40 18 60  6 20 10\n",
      "  2  6 20 33 10  7]\n"
     ]
    }
   ],
   "source": [
    "hasilPrediksi = model.predict(inputTesting)\n",
    "print(\"Label Sebenarnya : \", labelTesting)\n",
    "print(\"Hasil Prediksi : \", hasilPrediksi)"
   ]
  },
  {
   "cell_type": "code",
   "execution_count": 30,
   "metadata": {},
   "outputs": [
    {
     "name": "stdout",
     "output_type": "stream",
     "text": [
      "Prediksi Benar :  1  Data\n",
      "Prediksi Salah :  29  Data\n",
      "Akurasi :  3.3333333333333335 %\n"
     ]
    }
   ],
   "source": [
    "prediksiBenar = (hasilPrediksi == labelTesting).sum()\n",
    "prediksiSalah = (hasilPrediksi != labelTesting).sum()\n",
    "print(\"Prediksi Benar : \", prediksiBenar, \" Data\")\n",
    "print(\"Prediksi Salah : \", prediksiSalah, \" Data\")\n",
    "print(\"Akurasi : \", prediksiBenar/(prediksiBenar+prediksiSalah) * 100, \"%\")"
   ]
  },
  {
   "cell_type": "code",
   "execution_count": null,
   "metadata": {},
   "outputs": [],
   "source": []
  }
 ],
 "metadata": {
  "interpreter": {
   "hash": "d1fbdb9631944acadbd7e25ba74a24bf84510f895c8202b1aa17f36836065275"
  },
  "kernelspec": {
   "display_name": "Python 3 (ipykernel)",
   "language": "python",
   "name": "python3"
  },
  "language_info": {
   "codemirror_mode": {
    "name": "ipython",
    "version": 3
   },
   "file_extension": ".py",
   "mimetype": "text/x-python",
   "name": "python",
   "nbconvert_exporter": "python",
   "pygments_lexer": "ipython3",
   "version": "3.9.7"
  }
 },
 "nbformat": 4,
 "nbformat_minor": 2
}
